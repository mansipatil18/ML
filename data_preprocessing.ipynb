{
  "nbformat": 4,
  "nbformat_minor": 0,
  "metadata": {
    "colab": {
      "provenance": [],
      "authorship_tag": "ABX9TyNyIguOS+dqJSiccUqDGbIO",
      "include_colab_link": true
    },
    "kernelspec": {
      "name": "python3",
      "display_name": "Python 3"
    },
    "language_info": {
      "name": "python"
    }
  },
  "cells": [
    {
      "cell_type": "markdown",
      "metadata": {
        "id": "view-in-github",
        "colab_type": "text"
      },
      "source": [
        "<a href=\"https://colab.research.google.com/github/mansipatil18/ML/blob/main/data_preprocessing.ipynb\" target=\"_parent\"><img src=\"https://colab.research.google.com/assets/colab-badge.svg\" alt=\"Open In Colab\"/></a>"
      ]
    },
    {
      "cell_type": "code",
      "execution_count": null,
      "metadata": {
        "id": "3hj1tKxOU3gw"
      },
      "outputs": [],
      "source": [
        "import numpy as np\n",
        "import pandas as pd\n",
        "import seaborn as sns\n",
        "from matplotlib import pyplot as plt\n",
        "import missingno as msno\n",
        "from datetime import date\n",
        "from sklearn.metrics import accuracy_score\n",
        "from sklearn.model_selection import train_test_split\n",
        "from sklearn.neighbors import LocalOutlierFactor\n",
        "from sklearn.preprocessing import MinMaxScaler, LabelEncoder, StandardScaler, RobustScaler\n"
      ]
    },
    {
      "cell_type": "code",
      "source": [
        "def load_application_train():\n",
        "    data = pd.read_csv(\"application_train.csv\")\n",
        "    return data\n"
      ],
      "metadata": {
        "id": "QY7mEZQpVhs4"
      },
      "execution_count": null,
      "outputs": []
    },
    {
      "cell_type": "code",
      "source": [
        "df = load_application_train()\n",
        "print(df.shape)"
      ],
      "metadata": {
        "colab": {
          "base_uri": "https://localhost:8080/"
        },
        "id": "YRe-wiF-Vl9v",
        "outputId": "1cc9273d-ae93-4700-c55c-2af038f4cdf6"
      },
      "execution_count": null,
      "outputs": [
        {
          "output_type": "stream",
          "name": "stdout",
          "text": [
            "(19395, 122)\n"
          ]
        }
      ]
    },
    {
      "cell_type": "code",
      "source": [
        "def load():\n",
        "    data = pd.read_csv(\"titanic.csv\")\n",
        "    return data"
      ],
      "metadata": {
        "id": "o1QcWEtyVrGK"
      },
      "execution_count": null,
      "outputs": []
    },
    {
      "cell_type": "code",
      "source": [
        "\n",
        "df = load()\n",
        "print(df.shape)"
      ],
      "metadata": {
        "colab": {
          "base_uri": "https://localhost:8080/"
        },
        "id": "yCTp8oWWV1zq",
        "outputId": "04bda5fc-bc10-48be-a060-9b3c172a7425"
      },
      "execution_count": null,
      "outputs": [
        {
          "output_type": "stream",
          "name": "stdout",
          "text": [
            "(891, 12)\n"
          ]
        }
      ]
    },
    {
      "cell_type": "code",
      "source": [
        "sns.boxplot(x=df[\"Age\"])\n",
        "plt.show()  #IMAGE IS BELOW ('titan_age_outlier.png')"
      ],
      "metadata": {
        "colab": {
          "base_uri": "https://localhost:8080/",
          "height": 449
        },
        "id": "iLWXlICJV5d0",
        "outputId": "62eff94e-962d-4b56-d35e-d6fb53a65c4b"
      },
      "execution_count": null,
      "outputs": [
        {
          "output_type": "display_data",
          "data": {
            "text/plain": [
              "<Figure size 640x480 with 1 Axes>"
            ],
            "image/png": "[encoded data removed]"
          },
          "metadata": {}
        }
      ]
    },
    {
      "cell_type": "code",
      "source": [
        "q1 = df[\"Age\"].quantile(0.25)\n",
        "q3 = df[\"Age\"].quantile(0.75)\n",
        "iqr = q3 - q1\n",
        "up = q3 + 1.5 * iqr\n",
        "low = q1 - 1.5 * iqr\n",
        "print(df[(df[\"Age\"] < low) | (df[\"Age\"] > up)])"
      ],
      "metadata": {
        "colab": {
          "base_uri": "https://localhost:8080/"
        },
        "id": "40XYCEo0WFgs",
        "outputId": "0e654b46-503b-44e6-9b09-73ea3430d64d"
      },
      "execution_count": null,
      "outputs": [
        {
          "output_type": "stream",
          "name": "stdout",
          "text": [
            "     PassengerId  Survived  Pclass                                  Name  \\\n",
            "33            34         0       2                 Wheadon, Mr. Edward H   \n",
            "54            55         0       1        Ostby, Mr. Engelhart Cornelius   \n",
            "96            97         0       1             Goldschmidt, Mr. George B   \n",
            "116          117         0       3                  Connors, Mr. Patrick   \n",
            "280          281         0       3                      Duane, Mr. Frank   \n",
            "456          457         0       1             Millet, Mr. Francis Davis   \n",
            "493          494         0       1               Artagaveytia, Mr. Ramon   \n",
            "630          631         1       1  Barkworth, Mr. Algernon Henry Wilson   \n",
            "672          673         0       2           Mitchell, Mr. Henry Michael   \n",
            "745          746         0       1          Crosby, Capt. Edward Gifford   \n",
            "851          852         0       3                   Svensson, Mr. Johan   \n",
            "\n",
            "      Sex   Age  SibSp  Parch      Ticket     Fare Cabin Embarked  \n",
            "33   male  66.0      0      0  C.A. 24579  10.5000   NaN        S  \n",
            "54   male  65.0      0      1      113509  61.9792   B30        C  \n",
            "96   male  71.0      0      0    PC 17754  34.6542    A5        C  \n",
            "116  male  70.5      0      0      370369   7.7500   NaN        Q  \n",
            "280  male  65.0      0      0      336439   7.7500   NaN        Q  \n",
            "456  male  65.0      0      0       13509  26.5500   E38        S  \n",
            "493  male  71.0      0      0    PC 17609  49.5042   NaN        C  \n",
            "630  male  80.0      0      0       27042  30.0000   A23        S  \n",
            "672  male  70.0      0      0  C.A. 24580  10.5000   NaN        S  \n",
            "745  male  70.0      1      1   WE/P 5735  71.0000   B22        S  \n",
            "851  male  74.0      0      0      347060   7.7750   NaN        S  \n"
          ]
        }
      ]
    },
    {
      "cell_type": "code",
      "source": [
        "print(df[(df[\"Age\"] < low) | (df[\"Age\"] > up)].index)"
      ],
      "metadata": {
        "colab": {
          "base_uri": "https://localhost:8080/"
        },
        "id": "wsjBojE_WKCy",
        "outputId": "bd568b18-d754-4933-d760-6ec2826792e8"
      },
      "execution_count": null,
      "outputs": [
        {
          "output_type": "stream",
          "name": "stdout",
          "text": [
            "Index([33, 54, 96, 116, 280, 456, 493, 630, 672, 745, 851], dtype='int64')\n"
          ]
        }
      ]
    },
    {
      "cell_type": "code",
      "source": [
        "print(df[(df[\"Age\"] < low) | (df[\"Age\"] > up)].any(axis=None))"
      ],
      "metadata": {
        "colab": {
          "base_uri": "https://localhost:8080/"
        },
        "id": "aFG9BUEEWSun",
        "outputId": "faf844de-939b-4008-adef-67c7bb462d4d"
      },
      "execution_count": null,
      "outputs": [
        {
          "output_type": "stream",
          "name": "stdout",
          "text": [
            "True\n"
          ]
        }
      ]
    },
    {
      "cell_type": "code",
      "source": [
        "print(df[(df[\"Age\"] < low)].any(axis=None))"
      ],
      "metadata": {
        "colab": {
          "base_uri": "https://localhost:8080/"
        },
        "id": "2ZTTMJrJWXIM",
        "outputId": "6f0cd26b-3143-4e3a-e981-c858e65c748b"
      },
      "execution_count": null,
      "outputs": [
        {
          "output_type": "stream",
          "name": "stdout",
          "text": [
            "False\n"
          ]
        }
      ]
    },
    {
      "cell_type": "code",
      "source": [
        "def outlier_thresholds(dataframe, col_name, q1=0.25, q3=0.75):\n",
        "    quartile1 = dataframe[col_name].quantile(q1)\n",
        "    quartile3 = dataframe[col_name].quantile(q3)\n",
        "    interquantile_range = quartile3 - quartile1\n",
        "    up_limit = quartile3 + 1.5 * interquantile_range\n",
        "    low_limit = quartile1 - 1.5 * interquantile_range\n",
        "    return low_limit, up_limit"
      ],
      "metadata": {
        "id": "Uwm4mxHzWa5K"
      },
      "execution_count": null,
      "outputs": []
    },
    {
      "cell_type": "code",
      "source": [
        "print(outlier_thresholds(df, \"Age\"))"
      ],
      "metadata": {
        "colab": {
          "base_uri": "https://localhost:8080/"
        },
        "id": "ztpY9MJAWf54",
        "outputId": "83a89df0-5701-488d-88d0-8b82c639902c"
      },
      "execution_count": null,
      "outputs": [
        {
          "output_type": "stream",
          "name": "stdout",
          "text": [
            "(-6.6875, 64.8125)\n"
          ]
        }
      ]
    },
    {
      "cell_type": "code",
      "source": [
        "low, up = outlier_thresholds(df, \"Fare\")\n",
        "print(df[(df[\"Fare\"] < low) | (df[\"Fare\"] > up)].head())"
      ],
      "metadata": {
        "colab": {
          "base_uri": "https://localhost:8080/"
        },
        "id": "ISLExhCoWteB",
        "outputId": "8037a161-06d7-4ba7-fd3f-b9cd963900ea"
      },
      "execution_count": null,
      "outputs": [
        {
          "output_type": "stream",
          "name": "stdout",
          "text": [
            "    PassengerId  Survived  Pclass  \\\n",
            "1             2         1       1   \n",
            "27           28         0       1   \n",
            "31           32         1       1   \n",
            "34           35         0       1   \n",
            "52           53         1       1   \n",
            "\n",
            "                                                 Name     Sex   Age  SibSp  \\\n",
            "1   Cumings, Mrs. John Bradley (Florence Briggs Th...  female  38.0      1   \n",
            "27                     Fortune, Mr. Charles Alexander    male  19.0      3   \n",
            "31     Spencer, Mrs. William Augustus (Marie Eugenie)  female   NaN      1   \n",
            "34                            Meyer, Mr. Edgar Joseph    male  28.0      1   \n",
            "52           Harper, Mrs. Henry Sleeper (Myna Haxtun)  female  49.0      1   \n",
            "\n",
            "    Parch    Ticket      Fare        Cabin Embarked  \n",
            "1       0  PC 17599   71.2833          C85        C  \n",
            "27      2     19950  263.0000  C23 C25 C27        S  \n",
            "31      0  PC 17569  146.5208          B78        C  \n",
            "34      0  PC 17604   82.1708          NaN        C  \n",
            "52      0  PC 17572   76.7292          D33        C  \n"
          ]
        }
      ]
    },
    {
      "cell_type": "code",
      "source": [
        "def check_outlier(dataframe, col_name):\n",
        "    low_limit, up_limit = outlier_thresholds(dataframe, col_name)\n",
        "    if dataframe[(dataframe[col_name] > up_limit) | (dataframe[col_name] < low_limit)].any(axis=None):\n",
        "        return True\n",
        "    else:\n",
        "        return False\n",
        "\n",
        "print(check_outlier(df, \"Age\"))\n",
        "print(check_outlier(df, \"Fare\"))"
      ],
      "metadata": {
        "colab": {
          "base_uri": "https://localhost:8080/"
        },
        "id": "McgJNwoEWzKB",
        "outputId": "955a401c-4c71-4e5b-d4db-06f1a2b38dc8"
      },
      "execution_count": null,
      "outputs": [
        {
          "output_type": "stream",
          "name": "stdout",
          "text": [
            "True\n",
            "True\n"
          ]
        }
      ]
    },
    {
      "cell_type": "markdown",
      "source": [],
      "metadata": {
        "id": "42TX93E4sdHN"
      }
    },
    {
      "cell_type": "code",
      "source": [
        "def grab_col_names(dataframe, cat_th=10, car_th=20):\n",
        "\n",
        "    cols = {}\n",
        "    cat_cols = [col for col in dataframe.columns if dataframe[col].dtypes == \"O\"]\n",
        "    num_but_cat = [col for col in dataframe.columns if dataframe[col].nunique() < cat_th and dataframe[col].dtypes != \"O\"]\n",
        "    cat_but_car = [col for col in dataframe.columns if dataframe[col].nunique() > car_th and dataframe[col].dtypes == \"O\"]\n",
        "    cat_cols = cat_cols + num_but_cat\n",
        "    cat_cols = [col for col in cat_cols if col not in cat_but_car]\n",
        "    num_cols = [col for col in dataframe.columns if dataframe[col].dtypes != \"O\" and col not in num_but_cat]\n",
        "    print(f\"Observations: {dataframe.shape[0]}\")\n",
        "    print(f\"Variables: {dataframe.shape[1]}\")\n",
        "    print(f\"cat_cols: {len(cat_cols)}\")\n",
        "    print(f\"num_cols: {len(num_cols)}\")\n",
        "    print(f\"cat_but_car: {len(cat_but_car)}\")\n",
        "    print(f\"num_but_cat: {len(num_but_cat)}\")\n",
        "\n",
        "    return cat_cols, num_cols, cat_but_car\n"
      ],
      "metadata": {
        "id": "m989DJgBrCCX"
      },
      "execution_count": null,
      "outputs": []
    },
    {
      "cell_type": "code",
      "source": [
        " cat_cols, num_cols, cat_but_car = grab_col_names(df)"
      ],
      "metadata": {
        "colab": {
          "base_uri": "https://localhost:8080/"
        },
        "id": "b_phVI_JbUzB",
        "outputId": "11482e43-b7f7-4ae5-ccc8-01ce3671cbd3"
      },
      "execution_count": null,
      "outputs": [
        {
          "output_type": "stream",
          "name": "stdout",
          "text": [
            "Observations: 891\n",
            "Variables: 12\n",
            "cat_cols: 6\n",
            "num_cols: 3\n",
            "cat_but_car: 3\n",
            "num_but_cat: 4\n"
          ]
        }
      ]
    },
    {
      "cell_type": "code",
      "source": [
        "num_cols = [col for col in num_cols if col not in \"PassengerId\"]\n",
        "print(num_cols)"
      ],
      "metadata": {
        "colab": {
          "base_uri": "https://localhost:8080/"
        },
        "id": "FetGpdEquBC-",
        "outputId": "b108334f-03c0-4f09-cbde-e3c40ae40588"
      },
      "execution_count": null,
      "outputs": [
        {
          "output_type": "stream",
          "name": "stdout",
          "text": [
            "['Age', 'Fare']\n"
          ]
        }
      ]
    },
    {
      "cell_type": "code",
      "source": [
        "for col in num_cols:\n",
        "    print(col, check_outlier(df, col))"
      ],
      "metadata": {
        "colab": {
          "base_uri": "https://localhost:8080/"
        },
        "id": "OgVwj9PUuOEi",
        "outputId": "36ac8243-ef27-4987-9981-6f1b41e00470"
      },
      "execution_count": null,
      "outputs": [
        {
          "output_type": "stream",
          "name": "stdout",
          "text": [
            "Age True\n",
            "Fare True\n"
          ]
        }
      ]
    },
    {
      "cell_type": "code",
      "source": [
        "dff = load_application_train()\n",
        "\n",
        "cat_cols, num_cols, cat_but_car = grab_col_names(dff)"
      ],
      "metadata": {
        "colab": {
          "base_uri": "https://localhost:8080/"
        },
        "id": "v6o0LuTHuTZK",
        "outputId": "81b07649-0778-4875-b580-879e1b6813fe"
      },
      "execution_count": null,
      "outputs": [
        {
          "output_type": "stream",
          "name": "stdout",
          "text": [
            "Observations: 19395\n",
            "Variables: 122\n",
            "cat_cols: 57\n",
            "num_cols: 64\n",
            "cat_but_car: 1\n",
            "num_but_cat: 42\n"
          ]
        }
      ]
    },
    {
      "cell_type": "code",
      "source": [
        "if 'SK_ID_CURR' in num_cols:\n",
        "    num_cols.remove('SK_ID_CURR')\n",
        "else:\n",
        "    print(\" 'SK_ID_CURR' is not present in the list.\")"
      ],
      "metadata": {
        "colab": {
          "base_uri": "https://localhost:8080/"
        },
        "id": "w3MqvKbpuXDi",
        "outputId": "a8b2da3f-0305-4a44-afe8-bd0bbf3cf212"
      },
      "execution_count": null,
      "outputs": [
        {
          "output_type": "stream",
          "name": "stdout",
          "text": [
            " 'SK_ID_CURR' is not present in the list.\n"
          ]
        }
      ]
    },
    {
      "cell_type": "code",
      "source": [
        "for col in num_cols:\n",
        "    print(col, check_outlier(dff, col))"
      ],
      "metadata": {
        "colab": {
          "base_uri": "https://localhost:8080/"
        },
        "id": "miwXxodZun7R",
        "outputId": "be4b5090-bb57-4457-ad0d-df6eb89e7ad6"
      },
      "execution_count": null,
      "outputs": [
        {
          "output_type": "stream",
          "name": "stdout",
          "text": [
            "AMT_INCOME_TOTAL True\n",
            "AMT_CREDIT True\n",
            "AMT_ANNUITY True\n",
            "AMT_GOODS_PRICE True\n",
            "REGION_POPULATION_RELATIVE True\n",
            "DAYS_BIRTH False\n",
            "DAYS_EMPLOYED True\n",
            "DAYS_REGISTRATION True\n",
            "DAYS_ID_PUBLISH False\n",
            "OWN_CAR_AGE True\n",
            "CNT_FAM_MEMBERS True\n",
            "HOUR_APPR_PROCESS_START True\n",
            "EXT_SOURCE_1 False\n",
            "EXT_SOURCE_2 False\n",
            "EXT_SOURCE_3 False\n",
            "APARTMENTS_AVG True\n",
            "BASEMENTAREA_AVG True\n",
            "YEARS_BEGINEXPLUATATION_AVG True\n",
            "YEARS_BUILD_AVG True\n",
            "COMMONAREA_AVG True\n",
            "ELEVATORS_AVG True\n",
            "ENTRANCES_AVG True\n",
            "FLOORSMAX_AVG True\n",
            "FLOORSMIN_AVG True\n",
            "LANDAREA_AVG True\n",
            "LIVINGAPARTMENTS_AVG True\n",
            "LIVINGAREA_AVG True\n",
            "NONLIVINGAPARTMENTS_AVG True\n",
            "NONLIVINGAREA_AVG True\n",
            "APARTMENTS_MODE True\n",
            "BASEMENTAREA_MODE True\n",
            "YEARS_BEGINEXPLUATATION_MODE True\n",
            "YEARS_BUILD_MODE True\n",
            "COMMONAREA_MODE True\n",
            "ELEVATORS_MODE True\n",
            "ENTRANCES_MODE True\n",
            "FLOORSMAX_MODE True\n",
            "FLOORSMIN_MODE True\n",
            "LANDAREA_MODE True\n",
            "LIVINGAPARTMENTS_MODE True\n",
            "LIVINGAREA_MODE True\n",
            "NONLIVINGAPARTMENTS_MODE True\n",
            "NONLIVINGAREA_MODE True\n",
            "APARTMENTS_MEDI True\n",
            "BASEMENTAREA_MEDI True\n",
            "YEARS_BEGINEXPLUATATION_MEDI True\n",
            "YEARS_BUILD_MEDI True\n",
            "COMMONAREA_MEDI True\n",
            "ELEVATORS_MEDI True\n",
            "ENTRANCES_MEDI True\n",
            "FLOORSMAX_MEDI True\n",
            "FLOORSMIN_MEDI True\n",
            "LANDAREA_MEDI True\n",
            "LIVINGAPARTMENTS_MEDI True\n",
            "LIVINGAREA_MEDI True\n",
            "NONLIVINGAPARTMENTS_MEDI True\n",
            "NONLIVINGAREA_MEDI True\n",
            "TOTALAREA_MODE True\n",
            "OBS_30_CNT_SOCIAL_CIRCLE True\n",
            "OBS_60_CNT_SOCIAL_CIRCLE True\n",
            "DAYS_LAST_PHONE_CHANGE True\n",
            "AMT_REQ_CREDIT_BUREAU_MON True\n",
            "AMT_REQ_CREDIT_BUREAU_YEAR True\n"
          ]
        }
      ]
    },
    {
      "cell_type": "code",
      "source": [
        "def grab_outliers(dataframe, col_name, outlier_index=False, f = 5):\n",
        "    low, up = outlier_thresholds(dataframe, col_name)\n",
        "\n",
        "    if dataframe[((dataframe[col_name] < low) | (dataframe[col_name] > up))].shape[0] > 10:\n",
        "        print(dataframe[((dataframe[col_name] < low) | (dataframe[col_name] > up))].head(f))\n",
        "    else:\n",
        "        print(dataframe[((dataframe[col_name] < low) | (dataframe[col_name] > up))])\n",
        "\n",
        "    if outlier_index:\n",
        "        out_index = dataframe[((dataframe[col_name] < low) | (dataframe[col_name] > up))].index\n",
        "        return out_index\n",
        "\n"
      ],
      "metadata": {
        "id": "YK8gO0qBucOW"
      },
      "execution_count": null,
      "outputs": []
    },
    {
      "cell_type": "code",
      "source": [
        "age_index = grab_outliers(df, \"Age\", True)"
      ],
      "metadata": {
        "colab": {
          "base_uri": "https://localhost:8080/"
        },
        "id": "X7MiMc_wvVo9",
        "outputId": "1a46475f-8a6a-41d0-943a-96c3bf32e45d"
      },
      "execution_count": null,
      "outputs": [
        {
          "output_type": "stream",
          "name": "stdout",
          "text": [
            "     PassengerId  Survived  Pclass                            Name   Sex  \\\n",
            "33            34         0       2           Wheadon, Mr. Edward H  male   \n",
            "54            55         0       1  Ostby, Mr. Engelhart Cornelius  male   \n",
            "96            97         0       1       Goldschmidt, Mr. George B  male   \n",
            "116          117         0       3            Connors, Mr. Patrick  male   \n",
            "280          281         0       3                Duane, Mr. Frank  male   \n",
            "\n",
            "      Age  SibSp  Parch      Ticket     Fare Cabin Embarked  \n",
            "33   66.0      0      0  C.A. 24579  10.5000   NaN        S  \n",
            "54   65.0      0      1      113509  61.9792   B30        C  \n",
            "96   71.0      0      0    PC 17754  34.6542    A5        C  \n",
            "116  70.5      0      0      370369   7.7500   NaN        Q  \n",
            "280  65.0      0      0      336439   7.7500   NaN        Q  \n"
          ]
        }
      ]
    },
    {
      "cell_type": "code",
      "source": [
        "age_index = grab_outliers(df, \"Age\", True)"
      ],
      "metadata": {
        "colab": {
          "base_uri": "https://localhost:8080/"
        },
        "id": "Mryl-m51vZcQ",
        "outputId": "f5d4b2f1-2a8a-429b-bb37-1e6dd517effc"
      },
      "execution_count": null,
      "outputs": [
        {
          "output_type": "stream",
          "name": "stdout",
          "text": [
            "     PassengerId  Survived  Pclass                            Name   Sex  \\\n",
            "33            34         0       2           Wheadon, Mr. Edward H  male   \n",
            "54            55         0       1  Ostby, Mr. Engelhart Cornelius  male   \n",
            "96            97         0       1       Goldschmidt, Mr. George B  male   \n",
            "116          117         0       3            Connors, Mr. Patrick  male   \n",
            "280          281         0       3                Duane, Mr. Frank  male   \n",
            "\n",
            "      Age  SibSp  Parch      Ticket     Fare Cabin Embarked  \n",
            "33   66.0      0      0  C.A. 24579  10.5000   NaN        S  \n",
            "54   65.0      0      1      113509  61.9792   B30        C  \n",
            "96   71.0      0      0    PC 17754  34.6542    A5        C  \n",
            "116  70.5      0      0      370369   7.7500   NaN        Q  \n",
            "280  65.0      0      0      336439   7.7500   NaN        Q  \n"
          ]
        }
      ]
    }
  ]
}